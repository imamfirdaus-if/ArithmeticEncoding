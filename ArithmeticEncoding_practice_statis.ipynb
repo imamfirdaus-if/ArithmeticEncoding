{
  "nbformat": 4,
  "nbformat_minor": 0,
  "metadata": {
    "colab": {
      "name": "ArithmeticEncoding_practice-statis.ipynb",
      "provenance": [],
      "authorship_tag": "ABX9TyP7THDOuxKuZUfph740J0I6",
      "include_colab_link": true
    },
    "kernelspec": {
      "name": "python3",
      "display_name": "Python 3"
    },
    "language_info": {
      "name": "python"
    }
  },
  "cells": [
    {
      "cell_type": "markdown",
      "metadata": {
        "id": "view-in-github",
        "colab_type": "text"
      },
      "source": [
        "<a href=\"https://colab.research.google.com/github/imamfirdaus-if/ArithmeticEncoding/blob/main/ArithmeticEncoding_practice_statis.ipynb\" target=\"_parent\"><img src=\"https://colab.research.google.com/assets/colab-badge.svg\" alt=\"Open In Colab\"/></a>"
      ]
    },
    {
      "cell_type": "code",
      "execution_count": 1,
      "metadata": {
        "id": "cMzfrv_gquj7"
      },
      "outputs": [],
      "source": [
        "from decimal import Decimal\n",
        "\n",
        "class ArithmeticEncoding:\n",
        "    \"\"\"\n",
        "    ArithmeticEncoding is a class for building arithmetic encoding.\n",
        "    \"\"\"\n",
        "\n",
        "    def __init__(self, frequency_table):\n",
        "        self.probability_table = self.get_probability_table(frequency_table)\n",
        "\n",
        "    def get_probability_table(self, frequency_table):\n",
        "        \"\"\"\n",
        "        Calculates the probability table out of the frequency table.\n",
        "        \"\"\"\n",
        "        total_frequency = sum(list(frequency_table.values()))\n",
        "\n",
        "        probability_table = {}\n",
        "        for key, value in frequency_table.items():\n",
        "            probability_table[key] = value/total_frequency\n",
        "\n",
        "        return probability_table\n",
        "\n",
        "    def get_encoded_value(self, encoder):\n",
        "        \"\"\"\n",
        "        After encoding the entire message, this method returns the single value that represents the entire message.\n",
        "        \"\"\"\n",
        "        last_stage = list(encoder[-1].values())\n",
        "        last_stage_values = []\n",
        "        for sublist in last_stage:\n",
        "            for element in sublist:\n",
        "                last_stage_values.append(element)\n",
        "\n",
        "        last_stage_min = min(last_stage_values)\n",
        "        last_stage_max = max(last_stage_values)\n",
        "\n",
        "        return (last_stage_min + last_stage_max)/2\n",
        "\n",
        "    def process_stage(self, probability_table, stage_min, stage_max):\n",
        "        \"\"\"\n",
        "        Processing a stage in the encoding/decoding process.\n",
        "        \"\"\"\n",
        "        stage_probs = {}\n",
        "        stage_domain = stage_max - stage_min\n",
        "        for term_idx in range(len(probability_table.items())):\n",
        "            term = list(probability_table.keys())[term_idx]\n",
        "            term_prob = Decimal(probability_table[term])\n",
        "            cum_prob = term_prob * stage_domain + stage_min\n",
        "            stage_probs[term] = [stage_min, cum_prob]\n",
        "            stage_min = cum_prob\n",
        "        return stage_probs\n",
        "\n",
        "    def encode(self, msg, probability_table):\n",
        "        \"\"\"\n",
        "        Encodes a message.\n",
        "        \"\"\"\n",
        "\n",
        "        encoder = []\n",
        "    \n",
        "        stage_min = Decimal(0.0)\n",
        "        stage_max = Decimal(1.0)\n",
        "\n",
        "        for msg_term_idx in range(len(msg)):\n",
        "            stage_probs = self.process_stage(probability_table, stage_min, stage_max)\n",
        "\n",
        "            msg_term = msg[msg_term_idx]\n",
        "            stage_min = stage_probs[msg_term][0]\n",
        "            stage_max = stage_probs[msg_term][1]\n",
        "\n",
        "            encoder.append(stage_probs)\n",
        "\n",
        "        stage_probs = self.process_stage(probability_table, stage_min, stage_max)\n",
        "        encoder.append(stage_probs)\n",
        "\n",
        "        encoded_msg = self.get_encoded_value(encoder)\n",
        "\n",
        "        return encoder, encoded_msg\n",
        "\n",
        "    def decode(self, encoded_msg, msg_length, probability_table):\n",
        "        \"\"\"\n",
        "        Decodes a message.\n",
        "        \"\"\"\n",
        "\n",
        "        decoder = []\n",
        "        decoded_msg = \"\"\n",
        "\n",
        "        stage_min = Decimal(0.0)\n",
        "        stage_max = Decimal(1.0)\n",
        "\n",
        "        for idx in range(msg_length):\n",
        "            stage_probs = self.process_stage(probability_table, stage_min, stage_max)\n",
        "\n",
        "            for msg_term, value in stage_probs.items():\n",
        "                if encoded_msg >= value[0] and encoded_msg <= value[1]:\n",
        "                    break\n",
        "\n",
        "            decoded_msg = decoded_msg + msg_term\n",
        "            stage_min = stage_probs[msg_term][0]\n",
        "            stage_max = stage_probs[msg_term][1]\n",
        "\n",
        "            decoder.append(stage_probs)\n",
        "\n",
        "        stage_probs = self.process_stage(probability_table, stage_min, stage_max)\n",
        "        decoder.append(stage_probs)\n",
        "\n",
        "        return decoder, decoded_msg"
      ]
    },
    {
      "cell_type": "code",
      "source": [
        "frequency_table = {\"a\": 2,\n",
        "                   \"b\": 3,\n",
        "                   \"c\": 1,\n",
        "                   \"d\": 4}\n",
        "\n",
        "AE = ArithmeticEncoding(frequency_table)\n",
        "\n",
        "original_msg = \"bdab\"\n",
        "print(\"Original Message: {msg}\".format(msg=original_msg))\n",
        "\n",
        "encoder, encoded_msg = AE.encode(msg=original_msg, \n",
        "                                 probability_table=AE.probability_table)\n",
        "print(\"Encoded Message: {msg}\".format(msg=encoded_msg))\n",
        "\n",
        "decoder, decoded_msg = AE.decode(encoded_msg=encoded_msg, \n",
        "                                 msg_length=len(original_msg),\n",
        "                                 probability_table=AE.probability_table)\n",
        "print(\"Decoded Message: {msg}\".format(msg=decoded_msg))\n",
        "\n",
        "print(\"Message Decoded Successfully? {result}\".format(result=original_msg == decoded_msg))"
      ],
      "metadata": {
        "colab": {
          "base_uri": "https://localhost:8080/"
        },
        "id": "vg2rvhgsJZUC",
        "outputId": "a0b6fb65-f9f8-442c-821b-5a1a24cef0c4"
      },
      "execution_count": 3,
      "outputs": [
        {
          "output_type": "stream",
          "name": "stdout",
          "text": [
            "Original Message: bdab\n",
            "Encoded Message: 0.3884000000000000069610983644\n",
            "Decoded Message: bdab\n",
            "Message Decoded Successfully? True\n"
          ]
        }
      ]
    }
  ]
}